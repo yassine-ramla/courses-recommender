{
 "cells": [
  {
   "cell_type": "markdown",
   "id": "602eccd3",
   "metadata": {},
   "source": [
    "# MINI PROJECT FP GROWTH"
   ]
  },
  {
   "cell_type": "code",
   "execution_count": 17,
   "id": "08824941",
   "metadata": {},
   "outputs": [],
   "source": [
    "import pandas as pd\n",
    "import matplotlib.pyplot as plt\n",
    "import seaborn as sns\n",
    "from mlxtend.frequent_patterns import fpgrowth, association_rules\n",
    "\n",
    "filepath = 'courses_recommender/ui/data/user_with_courses.csv'\n",
    "data = pd.read_csv(filepath)"
   ]
  },
  {
   "cell_type": "code",
   "execution_count": 18,
   "id": "04ec4d8d",
   "metadata": {},
   "outputs": [],
   "source": [
    "#Prepare data for FP-Growth\n",
    "transactions = data['item'].str.split(', ').tolist()\n",
    "all_items = sorted(set(item for transaction in transactions for item in transaction))\n",
    "\n",
    "# Create one-hot encoding for transactions\n",
    "encoded_data = pd.DataFrame(\n",
    "    [[1 if item in transaction else 0 for item in all_items] for transaction in transactions],\n",
    "    columns=all_items\n",
    ").astype(bool)"
   ]
  },
  {
   "cell_type": "code",
   "execution_count": 63,
   "id": "55be595b",
   "metadata": {},
   "outputs": [],
   "source": [
    "#Train FP-Growth model\n",
    "min_support = 0.02\n",
    "frequent_itemsets = fpgrowth(encoded_data, min_support=min_support, use_colnames=True)\n",
    "rules = association_rules(frequent_itemsets, metric=\"confidence\", min_threshold=.6)\n",
    "rules.to_csv('courses_recommender/ui/data/fp_growth_association_rules.csv', index=False)\n",
    "# print(rules)"
   ]
  },
  {
   "cell_type": "code",
   "execution_count": 64,
   "id": "e05d58f2",
   "metadata": {},
   "outputs": [
    {
     "name": "stdout",
     "output_type": "stream",
     "text": [
      "updated\n",
      "updated\n",
      "updated\n",
      "updated\n",
      "updated\n",
      "updated\n",
      "updated\n",
      "updated\n",
      "updated\n",
      "updated\n",
      "Recommended courses: {'PY0101EN', 'DS0103EN', 'DS0105EN', 'DV0101EN'}\n"
     ]
    }
   ],
   "source": [
    "input_courses = {'DS0101EN', 'DA0101EN'}\n",
    "\n",
    "recommended = set()\n",
    "\n",
    "for _, rule in rules.iterrows():\n",
    "    if all(course in input_courses for course in rule['antecedents']):\n",
    "        recommended.update(rule['consequents'])\n",
    "        print('updated')\n",
    "\n",
    "recommendations = recommended - input_courses\n",
    "\n",
    "if recommendations:\n",
    "    print(\"Recommended courses:\", recommendations)\n",
    "else:\n",
    "    print(\"No recommendations\")\n",
    "# {'PY0101EN', 'BD0211EN', 'DS0103EN', 'ML0115EN', 'BD0111EN', 'DV0101EN', 'BD0101EN', 'ML0101ENv3', 'DS0105EN'}"
   ]
  }
 ],
 "metadata": {
  "kernelspec": {
   "display_name": "ml-env",
   "language": "python",
   "name": "python3"
  },
  "language_info": {
   "codemirror_mode": {
    "name": "ipython",
    "version": 3
   },
   "file_extension": ".py",
   "mimetype": "text/x-python",
   "name": "python",
   "nbconvert_exporter": "python",
   "pygments_lexer": "ipython3",
   "version": "3.12.7"
  }
 },
 "nbformat": 4,
 "nbformat_minor": 5
}
